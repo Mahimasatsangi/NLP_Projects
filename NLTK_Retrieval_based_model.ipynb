{
 "cells": [
  {
   "cell_type": "code",
   "execution_count": 10,
   "metadata": {},
   "outputs": [],
   "source": [
    "#from Tkinter import *\n",
    "#from tkMessageBox import *\n",
    "import nltk\n",
    "import numpy as np\n",
    "import random\n",
    "import string\n",
    "from sklearn.feature_extraction.text import TfidfVectorizer\n",
    "from sklearn.metrics.pairwise import cosine_similarity"
   ]
  },
  {
   "cell_type": "code",
   "execution_count": 11,
   "metadata": {},
   "outputs": [
    {
     "name": "stdout",
     "output_type": "stream",
     "text": [
      "[nltk_data] Downloading package punkt to C:\\Users\\MAHIMA\n",
      "[nltk_data]     SATSANGI\\AppData\\Roaming\\nltk_data...\n",
      "[nltk_data]   Package punkt is already up-to-date!\n"
     ]
    }
   ],
   "source": [
    "data=open('chatbot.txt','r',errors='ignore')\n",
    "raw=data.read()\n",
    "raw=raw.lower()    # to convert the entire text into one case\n",
    "nltk.download('punkt')   # pre-trained tokenizer available in nltk\n",
    "sent_tokens=nltk.sent_tokenize(raw)\n",
    "word_tokens=nltk.word_tokenize(raw)"
   ]
  },
  {
   "cell_type": "code",
   "execution_count": 12,
   "metadata": {},
   "outputs": [
    {
     "data": {
      "text/plain": [
       "['smart farming represents the application of modern information and communication technologies (ict) into  agriculture, leading to what can be called a third green revolution.',\n",
       " 'all livestock manures can be valuable additions to soil — their nutrients are readily available to soil organisms and plants.']"
      ]
     },
     "execution_count": 12,
     "metadata": {},
     "output_type": "execute_result"
    }
   ],
   "source": [
    "sent_tokens[:2]"
   ]
  },
  {
   "cell_type": "code",
   "execution_count": 13,
   "metadata": {},
   "outputs": [
    {
     "data": {
      "text/plain": [
       "['smart', 'farming', 'represents', 'the']"
      ]
     },
     "execution_count": 13,
     "metadata": {},
     "output_type": "execute_result"
    }
   ],
   "source": [
    "word_tokens[:4]"
   ]
  },
  {
   "cell_type": "code",
   "execution_count": 14,
   "metadata": {},
   "outputs": [],
   "source": [
    "GREETING_INPUTS = (\"hello\")\n",
    "GREETING_RESPONSES = [\"hi, I'm Agribot! What would you like to know?\"]\n",
    "\n",
    "def greeting(sentence):\n",
    " \n",
    "    for word in sentence.split():\n",
    "        if word.lower() in GREETING_INPUTS:\n",
    "            return random.choice(GREETING_RESPONSES) \n",
    "        else:\n",
    "            return "
   ]
  },
  {
   "cell_type": "code",
   "execution_count": 15,
   "metadata": {},
   "outputs": [],
   "source": [
    "lemmer = nltk.stem.WordNetLemmatizer()\n",
    "def LemTokens(tokens):\n",
    "    return [lemmer.lemmatize(token) for token in tokens]\n",
    "remove_punct_dict = dict((ord(punct), None) for punct in string.punctuation)\n",
    "def LemNormalize(text):\n",
    "    return LemTokens(nltk.word_tokenize(text.lower().translate(remove_punct_dict)))"
   ]
  },
  {
   "cell_type": "code",
   "execution_count": 16,
   "metadata": {},
   "outputs": [],
   "source": [
    "def response(user_response):\n",
    "    bot=''\n",
    "    TfidfVec = TfidfVectorizer(tokenizer=LemNormalize, stop_words='english')\n",
    "    tfidf = TfidfVec.fit_transform(sent_tokens)\n",
    "    vals = cosine_similarity(tfidf[-1], tfidf)\n",
    "    idx=vals.argsort()[0][-2]\n",
    "    flat = vals.flatten()\n",
    "    flat.sort()\n",
    "    req_tfidf = flat[-2]\n",
    "    if(req_tfidf==0):\n",
    "        bot = bot +\"I am sorry! I don't understand you\"\n",
    "        return bot\n",
    "    else:\n",
    "        bot = bot +sent_tokens[idx]\n",
    "        return bot"
   ]
  },
  {
   "cell_type": "code",
   "execution_count": 17,
   "metadata": {},
   "outputs": [],
   "source": [
    "flag = True"
   ]
  },
  {
   "cell_type": "code",
   "execution_count": 18,
   "metadata": {},
   "outputs": [
    {
     "name": "stdout",
     "output_type": "stream",
     "text": [
      "hello\n",
      "ROBO: hi, I'm Agribot! What would you like to know?\n",
      "What is smart farming?\n",
      "BOT: smart farming represents the application of modern information and communication technologies (ict) into  agriculture, leading to what can be called a third green revolution.\n",
      " How can I make my soil ready?\n",
      "BOT: in fact, manures make a greater contribution to soil aggregation than composts, which have already mostly decomposed.\n",
      "What can be some value additions to soil?\n",
      "BOT: all livestock manures can be valuable additions to soil — their nutrients are readily available to soil organisms and plants.\n",
      " How can I do smart irrigation?\n",
      "BOT: the experts agree that smart irrigation systems and controllers versus traditional irrigation controllers conserve water across a variety of scenarios.\n",
      " What are some of the best farming practices?\n",
      "BOT: smart farming represents the application of modern information and communication technologies (ict) into  agriculture, leading to what can be called a third green revolution.\n",
      "What is sustainable development?\n",
      "BOT: sustainable agriculture\n",
      "environmental sustainability in agriculture means good stewardship of the natural systems and resources that farms rely on.\n",
      "define sustainable agriculture\n",
      "BOT: sustainable agriculture\n",
      "environmental sustainability in agriculture means good stewardship of the natural systems and resources that farms rely on.\n",
      "Bye\n",
      "BOT: Bye! take care..\n"
     ]
    }
   ],
   "source": [
    "while True:\n",
    "    user_response = input()\n",
    "    user_response=user_response.lower()\n",
    "    if(user_response!='bye'):\n",
    "        if(user_response=='thanks' or user_response=='thank you' ):\n",
    "            flag=False\n",
    "            print(\"BOT: You are welcome..\")\n",
    "        else:\n",
    "            if(greeting(user_response)!=None):\n",
    "                print(\"ROBO: \"+greeting(user_response))\n",
    "                     \n",
    "            else:\n",
    "                sent_tokens.append(user_response)\n",
    "                word_tokens=word_tokens+nltk.word_tokenize(user_response)\n",
    "                final_words=list(set(word_tokens))\n",
    "                print(\"BOT: \",end=\"\")\n",
    "                print(response(user_response))\n",
    "                sent_tokens.remove(user_response)\n",
    "    else:\n",
    "        flag=False\n",
    "        print(\"BOT: Bye! take care..\") \n",
    "        break"
   ]
  },
  {
   "cell_type": "code",
   "execution_count": null,
   "metadata": {},
   "outputs": [],
   "source": []
  }
 ],
 "metadata": {
  "kernelspec": {
   "display_name": "Python 3",
   "language": "python",
   "name": "python3"
  },
  "language_info": {
   "codemirror_mode": {
    "name": "ipython",
    "version": 3
   },
   "file_extension": ".py",
   "mimetype": "text/x-python",
   "name": "python",
   "nbconvert_exporter": "python",
   "pygments_lexer": "ipython3",
   "version": "3.6.5"
  }
 },
 "nbformat": 4,
 "nbformat_minor": 2
}
